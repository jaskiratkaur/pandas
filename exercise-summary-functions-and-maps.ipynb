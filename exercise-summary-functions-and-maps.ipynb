{
 "cells": [
  {
   "cell_type": "markdown",
   "id": "783c13e7",
   "metadata": {
    "papermill": {
     "duration": 0.018299,
     "end_time": "2022-05-08T07:40:08.681855",
     "exception": false,
     "start_time": "2022-05-08T07:40:08.663556",
     "status": "completed"
    },
    "tags": []
   },
   "source": [
    "**This notebook is an exercise in the [Pandas](https://www.kaggle.com/learn/pandas) course.  You can reference the tutorial at [this link](https://www.kaggle.com/residentmario/summary-functions-and-maps).**\n",
    "\n",
    "---\n"
   ]
  },
  {
   "cell_type": "markdown",
   "id": "b48a037e",
   "metadata": {
    "papermill": {
     "duration": 0.016705,
     "end_time": "2022-05-08T07:40:08.715309",
     "exception": false,
     "start_time": "2022-05-08T07:40:08.698604",
     "status": "completed"
    },
    "tags": []
   },
   "source": [
    "# Introduction\n",
    "\n",
    "Now you are ready to get a deeper understanding of your data.\n",
    "\n",
    "Run the following cell to load your data and some utility functions (including code to check your answers)."
   ]
  },
  {
   "cell_type": "code",
   "execution_count": 1,
   "id": "3f1974e8",
   "metadata": {
    "execution": {
     "iopub.execute_input": "2022-05-08T07:40:08.749862Z",
     "iopub.status.busy": "2022-05-08T07:40:08.749551Z",
     "iopub.status.idle": "2022-05-08T07:40:14.808047Z",
     "shell.execute_reply": "2022-05-08T07:40:14.807386Z"
    },
    "papermill": {
     "duration": 6.079204,
     "end_time": "2022-05-08T07:40:14.811026",
     "exception": false,
     "start_time": "2022-05-08T07:40:08.731822",
     "status": "completed"
    },
    "tags": []
   },
   "outputs": [
    {
     "name": "stdout",
     "output_type": "stream",
     "text": [
      "Setup complete.\n"
     ]
    },
    {
     "data": {
      "text/html": [
       "<div>\n",
       "<style scoped>\n",
       "    .dataframe tbody tr th:only-of-type {\n",
       "        vertical-align: middle;\n",
       "    }\n",
       "\n",
       "    .dataframe tbody tr th {\n",
       "        vertical-align: top;\n",
       "    }\n",
       "\n",
       "    .dataframe thead th {\n",
       "        text-align: right;\n",
       "    }\n",
       "</style>\n",
       "<table border=\"1\" class=\"dataframe\">\n",
       "  <thead>\n",
       "    <tr style=\"text-align: right;\">\n",
       "      <th></th>\n",
       "      <th>country</th>\n",
       "      <th>description</th>\n",
       "      <th>designation</th>\n",
       "      <th>points</th>\n",
       "      <th>price</th>\n",
       "      <th>province</th>\n",
       "      <th>region_1</th>\n",
       "      <th>region_2</th>\n",
       "      <th>taster_name</th>\n",
       "      <th>taster_twitter_handle</th>\n",
       "      <th>title</th>\n",
       "      <th>variety</th>\n",
       "      <th>winery</th>\n",
       "    </tr>\n",
       "  </thead>\n",
       "  <tbody>\n",
       "    <tr>\n",
       "      <th>0</th>\n",
       "      <td>Italy</td>\n",
       "      <td>Aromas include tropical fruit, broom, brimston...</td>\n",
       "      <td>Vulkà Bianco</td>\n",
       "      <td>87</td>\n",
       "      <td>NaN</td>\n",
       "      <td>Sicily &amp; Sardinia</td>\n",
       "      <td>Etna</td>\n",
       "      <td>NaN</td>\n",
       "      <td>Kerin O’Keefe</td>\n",
       "      <td>@kerinokeefe</td>\n",
       "      <td>Nicosia 2013 Vulkà Bianco  (Etna)</td>\n",
       "      <td>White Blend</td>\n",
       "      <td>Nicosia</td>\n",
       "    </tr>\n",
       "    <tr>\n",
       "      <th>1</th>\n",
       "      <td>Portugal</td>\n",
       "      <td>This is ripe and fruity, a wine that is smooth...</td>\n",
       "      <td>Avidagos</td>\n",
       "      <td>87</td>\n",
       "      <td>15.0</td>\n",
       "      <td>Douro</td>\n",
       "      <td>NaN</td>\n",
       "      <td>NaN</td>\n",
       "      <td>Roger Voss</td>\n",
       "      <td>@vossroger</td>\n",
       "      <td>Quinta dos Avidagos 2011 Avidagos Red (Douro)</td>\n",
       "      <td>Portuguese Red</td>\n",
       "      <td>Quinta dos Avidagos</td>\n",
       "    </tr>\n",
       "    <tr>\n",
       "      <th>2</th>\n",
       "      <td>US</td>\n",
       "      <td>Tart and snappy, the flavors of lime flesh and...</td>\n",
       "      <td>NaN</td>\n",
       "      <td>87</td>\n",
       "      <td>14.0</td>\n",
       "      <td>Oregon</td>\n",
       "      <td>Willamette Valley</td>\n",
       "      <td>Willamette Valley</td>\n",
       "      <td>Paul Gregutt</td>\n",
       "      <td>@paulgwine</td>\n",
       "      <td>Rainstorm 2013 Pinot Gris (Willamette Valley)</td>\n",
       "      <td>Pinot Gris</td>\n",
       "      <td>Rainstorm</td>\n",
       "    </tr>\n",
       "    <tr>\n",
       "      <th>3</th>\n",
       "      <td>US</td>\n",
       "      <td>Pineapple rind, lemon pith and orange blossom ...</td>\n",
       "      <td>Reserve Late Harvest</td>\n",
       "      <td>87</td>\n",
       "      <td>13.0</td>\n",
       "      <td>Michigan</td>\n",
       "      <td>Lake Michigan Shore</td>\n",
       "      <td>NaN</td>\n",
       "      <td>Alexander Peartree</td>\n",
       "      <td>NaN</td>\n",
       "      <td>St. Julian 2013 Reserve Late Harvest Riesling ...</td>\n",
       "      <td>Riesling</td>\n",
       "      <td>St. Julian</td>\n",
       "    </tr>\n",
       "    <tr>\n",
       "      <th>4</th>\n",
       "      <td>US</td>\n",
       "      <td>Much like the regular bottling from 2012, this...</td>\n",
       "      <td>Vintner's Reserve Wild Child Block</td>\n",
       "      <td>87</td>\n",
       "      <td>65.0</td>\n",
       "      <td>Oregon</td>\n",
       "      <td>Willamette Valley</td>\n",
       "      <td>Willamette Valley</td>\n",
       "      <td>Paul Gregutt</td>\n",
       "      <td>@paulgwine</td>\n",
       "      <td>Sweet Cheeks 2012 Vintner's Reserve Wild Child...</td>\n",
       "      <td>Pinot Noir</td>\n",
       "      <td>Sweet Cheeks</td>\n",
       "    </tr>\n",
       "  </tbody>\n",
       "</table>\n",
       "</div>"
      ],
      "text/plain": [
       "    country                                        description  \\\n",
       "0     Italy  Aromas include tropical fruit, broom, brimston...   \n",
       "1  Portugal  This is ripe and fruity, a wine that is smooth...   \n",
       "2        US  Tart and snappy, the flavors of lime flesh and...   \n",
       "3        US  Pineapple rind, lemon pith and orange blossom ...   \n",
       "4        US  Much like the regular bottling from 2012, this...   \n",
       "\n",
       "                          designation  points  price           province  \\\n",
       "0                        Vulkà Bianco      87    NaN  Sicily & Sardinia   \n",
       "1                            Avidagos      87   15.0              Douro   \n",
       "2                                 NaN      87   14.0             Oregon   \n",
       "3                Reserve Late Harvest      87   13.0           Michigan   \n",
       "4  Vintner's Reserve Wild Child Block      87   65.0             Oregon   \n",
       "\n",
       "              region_1           region_2         taster_name  \\\n",
       "0                 Etna                NaN       Kerin O’Keefe   \n",
       "1                  NaN                NaN          Roger Voss   \n",
       "2    Willamette Valley  Willamette Valley        Paul Gregutt   \n",
       "3  Lake Michigan Shore                NaN  Alexander Peartree   \n",
       "4    Willamette Valley  Willamette Valley        Paul Gregutt   \n",
       "\n",
       "  taster_twitter_handle                                              title  \\\n",
       "0          @kerinokeefe                  Nicosia 2013 Vulkà Bianco  (Etna)   \n",
       "1            @vossroger      Quinta dos Avidagos 2011 Avidagos Red (Douro)   \n",
       "2           @paulgwine       Rainstorm 2013 Pinot Gris (Willamette Valley)   \n",
       "3                   NaN  St. Julian 2013 Reserve Late Harvest Riesling ...   \n",
       "4           @paulgwine   Sweet Cheeks 2012 Vintner's Reserve Wild Child...   \n",
       "\n",
       "          variety               winery  \n",
       "0     White Blend              Nicosia  \n",
       "1  Portuguese Red  Quinta dos Avidagos  \n",
       "2      Pinot Gris            Rainstorm  \n",
       "3        Riesling           St. Julian  \n",
       "4      Pinot Noir         Sweet Cheeks  "
      ]
     },
     "execution_count": 1,
     "metadata": {},
     "output_type": "execute_result"
    }
   ],
   "source": [
    "import pandas as pd\n",
    "pd.set_option(\"display.max_rows\", 5)\n",
    "reviews = pd.read_csv(\"../input/wine-reviews/winemag-data-130k-v2.csv\", index_col=0)\n",
    "\n",
    "from learntools.core import binder; binder.bind(globals())\n",
    "from learntools.pandas.summary_functions_and_maps import *\n",
    "print(\"Setup complete.\")\n",
    "\n",
    "reviews.head()"
   ]
  },
  {
   "cell_type": "markdown",
   "id": "d7ab3f65",
   "metadata": {
    "papermill": {
     "duration": 0.017337,
     "end_time": "2022-05-08T07:40:14.847589",
     "exception": false,
     "start_time": "2022-05-08T07:40:14.830252",
     "status": "completed"
    },
    "tags": []
   },
   "source": [
    "# Exercises"
   ]
  },
  {
   "cell_type": "markdown",
   "id": "64f621ff",
   "metadata": {
    "papermill": {
     "duration": 0.017044,
     "end_time": "2022-05-08T07:40:14.882272",
     "exception": false,
     "start_time": "2022-05-08T07:40:14.865228",
     "status": "completed"
    },
    "tags": []
   },
   "source": [
    "## 1.\n",
    "\n",
    "What is the median of the `points` column in the `reviews` DataFrame?"
   ]
  },
  {
   "cell_type": "code",
   "execution_count": 2,
   "id": "11f518c5",
   "metadata": {
    "execution": {
     "iopub.execute_input": "2022-05-08T07:40:14.918482Z",
     "iopub.status.busy": "2022-05-08T07:40:14.918034Z",
     "iopub.status.idle": "2022-05-08T07:40:14.925854Z",
     "shell.execute_reply": "2022-05-08T07:40:14.925305Z"
    },
    "papermill": {
     "duration": 0.027849,
     "end_time": "2022-05-08T07:40:14.927398",
     "exception": false,
     "start_time": "2022-05-08T07:40:14.899549",
     "status": "completed"
    },
    "tags": []
   },
   "outputs": [
    {
     "data": {
      "application/javascript": [
       "parent.postMessage({\"jupyterEvent\": \"custom.exercise_interaction\", \"data\": {\"outcomeType\": 1, \"valueTowardsCompletion\": 0.14285714285714285, \"interactionType\": 1, \"questionType\": 1, \"questionId\": \"1_MedianPoints\", \"learnToolsVersion\": \"0.3.4\", \"failureMessage\": \"\", \"exceptionClass\": \"\", \"trace\": \"\"}}, \"*\")"
      ],
      "text/plain": [
       "<IPython.core.display.Javascript object>"
      ]
     },
     "metadata": {},
     "output_type": "display_data"
    },
    {
     "data": {
      "text/markdown": [
       "<span style=\"color:#33cc33\">Correct</span>"
      ],
      "text/plain": [
       "Correct"
      ]
     },
     "metadata": {},
     "output_type": "display_data"
    }
   ],
   "source": [
    "median_points = reviews.points.median()\n",
    "\n",
    "# Check your answer\n",
    "q1.check()"
   ]
  },
  {
   "cell_type": "code",
   "execution_count": 3,
   "id": "2788e56b",
   "metadata": {
    "execution": {
     "iopub.execute_input": "2022-05-08T07:40:14.965700Z",
     "iopub.status.busy": "2022-05-08T07:40:14.965279Z",
     "iopub.status.idle": "2022-05-08T07:40:14.968023Z",
     "shell.execute_reply": "2022-05-08T07:40:14.967482Z"
    },
    "papermill": {
     "duration": 0.023679,
     "end_time": "2022-05-08T07:40:14.969563",
     "exception": false,
     "start_time": "2022-05-08T07:40:14.945884",
     "status": "completed"
    },
    "tags": []
   },
   "outputs": [],
   "source": [
    "#q1.hint()\n",
    "#q1.solution()"
   ]
  },
  {
   "cell_type": "markdown",
   "id": "e05b38d5",
   "metadata": {
    "papermill": {
     "duration": 0.017973,
     "end_time": "2022-05-08T07:40:15.007416",
     "exception": false,
     "start_time": "2022-05-08T07:40:14.989443",
     "status": "completed"
    },
    "tags": []
   },
   "source": [
    "## 2. \n",
    "What countries are represented in the dataset? (Your answer should not include any duplicates.)"
   ]
  },
  {
   "cell_type": "code",
   "execution_count": 4,
   "id": "c08a60ed",
   "metadata": {
    "execution": {
     "iopub.execute_input": "2022-05-08T07:40:15.045550Z",
     "iopub.status.busy": "2022-05-08T07:40:15.045257Z",
     "iopub.status.idle": "2022-05-08T07:40:15.059715Z",
     "shell.execute_reply": "2022-05-08T07:40:15.059027Z"
    },
    "papermill": {
     "duration": 0.035778,
     "end_time": "2022-05-08T07:40:15.061346",
     "exception": false,
     "start_time": "2022-05-08T07:40:15.025568",
     "status": "completed"
    },
    "tags": []
   },
   "outputs": [
    {
     "data": {
      "application/javascript": [
       "parent.postMessage({\"jupyterEvent\": \"custom.exercise_interaction\", \"data\": {\"outcomeType\": 1, \"valueTowardsCompletion\": 0.14285714285714285, \"interactionType\": 1, \"questionType\": 2, \"questionId\": \"2_UniqueCountries\", \"learnToolsVersion\": \"0.3.4\", \"failureMessage\": \"\", \"exceptionClass\": \"\", \"trace\": \"\"}}, \"*\")"
      ],
      "text/plain": [
       "<IPython.core.display.Javascript object>"
      ]
     },
     "metadata": {},
     "output_type": "display_data"
    },
    {
     "data": {
      "text/markdown": [
       "<span style=\"color:#33cc33\">Correct</span>"
      ],
      "text/plain": [
       "Correct"
      ]
     },
     "metadata": {},
     "output_type": "display_data"
    }
   ],
   "source": [
    "countries = reviews.country.unique()\n",
    "\n",
    "# Check your answer\n",
    "q2.check()"
   ]
  },
  {
   "cell_type": "code",
   "execution_count": 5,
   "id": "67665cb8",
   "metadata": {
    "execution": {
     "iopub.execute_input": "2022-05-08T07:40:15.101129Z",
     "iopub.status.busy": "2022-05-08T07:40:15.100870Z",
     "iopub.status.idle": "2022-05-08T07:40:15.103941Z",
     "shell.execute_reply": "2022-05-08T07:40:15.103181Z"
    },
    "papermill": {
     "duration": 0.02521,
     "end_time": "2022-05-08T07:40:15.105765",
     "exception": false,
     "start_time": "2022-05-08T07:40:15.080555",
     "status": "completed"
    },
    "tags": []
   },
   "outputs": [],
   "source": [
    "#q2.hint()\n",
    "#q2.solution()"
   ]
  },
  {
   "cell_type": "markdown",
   "id": "3e8f22fd",
   "metadata": {
    "papermill": {
     "duration": 0.019345,
     "end_time": "2022-05-08T07:40:15.144552",
     "exception": false,
     "start_time": "2022-05-08T07:40:15.125207",
     "status": "completed"
    },
    "tags": []
   },
   "source": [
    "## 3.\n",
    "How often does each country appear in the dataset? Create a Series `reviews_per_country` mapping countries to the count of reviews of wines from that country."
   ]
  },
  {
   "cell_type": "code",
   "execution_count": 6,
   "id": "4c4f40a6",
   "metadata": {
    "execution": {
     "iopub.execute_input": "2022-05-08T07:40:15.184593Z",
     "iopub.status.busy": "2022-05-08T07:40:15.184323Z",
     "iopub.status.idle": "2022-05-08T07:40:15.199095Z",
     "shell.execute_reply": "2022-05-08T07:40:15.198354Z"
    },
    "papermill": {
     "duration": 0.037173,
     "end_time": "2022-05-08T07:40:15.201068",
     "exception": false,
     "start_time": "2022-05-08T07:40:15.163895",
     "status": "completed"
    },
    "tags": []
   },
   "outputs": [
    {
     "data": {
      "application/javascript": [
       "parent.postMessage({\"jupyterEvent\": \"custom.exercise_interaction\", \"data\": {\"outcomeType\": 1, \"valueTowardsCompletion\": 0.14285714285714285, \"interactionType\": 1, \"questionType\": 1, \"questionId\": \"3_ReviewsPerCountry\", \"learnToolsVersion\": \"0.3.4\", \"failureMessage\": \"\", \"exceptionClass\": \"\", \"trace\": \"\"}}, \"*\")"
      ],
      "text/plain": [
       "<IPython.core.display.Javascript object>"
      ]
     },
     "metadata": {},
     "output_type": "display_data"
    },
    {
     "data": {
      "text/markdown": [
       "<span style=\"color:#33cc33\">Correct</span>"
      ],
      "text/plain": [
       "Correct"
      ]
     },
     "metadata": {},
     "output_type": "display_data"
    }
   ],
   "source": [
    "reviews_per_country = reviews.country.value_counts()\n",
    "\n",
    "# Check your answer\n",
    "q3.check()"
   ]
  },
  {
   "cell_type": "code",
   "execution_count": 7,
   "id": "e570c26b",
   "metadata": {
    "execution": {
     "iopub.execute_input": "2022-05-08T07:40:15.242942Z",
     "iopub.status.busy": "2022-05-08T07:40:15.242495Z",
     "iopub.status.idle": "2022-05-08T07:40:15.245194Z",
     "shell.execute_reply": "2022-05-08T07:40:15.244679Z"
    },
    "papermill": {
     "duration": 0.025523,
     "end_time": "2022-05-08T07:40:15.246826",
     "exception": false,
     "start_time": "2022-05-08T07:40:15.221303",
     "status": "completed"
    },
    "tags": []
   },
   "outputs": [],
   "source": [
    "#q3.hint()\n",
    "#q3.solution()"
   ]
  },
  {
   "cell_type": "markdown",
   "id": "97720373",
   "metadata": {
    "papermill": {
     "duration": 0.019835,
     "end_time": "2022-05-08T07:40:15.287304",
     "exception": false,
     "start_time": "2022-05-08T07:40:15.267469",
     "status": "completed"
    },
    "tags": []
   },
   "source": [
    "## 4.\n",
    "Create variable `centered_price` containing a version of the `price` column with the mean price subtracted.\n",
    "\n",
    "(Note: this 'centering' transformation is a common preprocessing step before applying various machine learning algorithms.) "
   ]
  },
  {
   "cell_type": "code",
   "execution_count": 8,
   "id": "714b240a",
   "metadata": {
    "execution": {
     "iopub.execute_input": "2022-05-08T07:40:15.328428Z",
     "iopub.status.busy": "2022-05-08T07:40:15.328151Z",
     "iopub.status.idle": "2022-05-08T07:40:15.336259Z",
     "shell.execute_reply": "2022-05-08T07:40:15.335753Z"
    },
    "papermill": {
     "duration": 0.030747,
     "end_time": "2022-05-08T07:40:15.338059",
     "exception": false,
     "start_time": "2022-05-08T07:40:15.307312",
     "status": "completed"
    },
    "tags": []
   },
   "outputs": [
    {
     "data": {
      "application/javascript": [
       "parent.postMessage({\"jupyterEvent\": \"custom.exercise_interaction\", \"data\": {\"outcomeType\": 1, \"valueTowardsCompletion\": 0.14285714285714285, \"interactionType\": 1, \"questionType\": 1, \"questionId\": \"4_CenteredPrice\", \"learnToolsVersion\": \"0.3.4\", \"failureMessage\": \"\", \"exceptionClass\": \"\", \"trace\": \"\"}}, \"*\")"
      ],
      "text/plain": [
       "<IPython.core.display.Javascript object>"
      ]
     },
     "metadata": {},
     "output_type": "display_data"
    },
    {
     "data": {
      "text/markdown": [
       "<span style=\"color:#33cc33\">Correct</span>"
      ],
      "text/plain": [
       "Correct"
      ]
     },
     "metadata": {},
     "output_type": "display_data"
    }
   ],
   "source": [
    "centered_price = reviews.price - reviews.price.mean()\n",
    "\n",
    "# Check your answer\n",
    "q4.check()"
   ]
  },
  {
   "cell_type": "code",
   "execution_count": 9,
   "id": "9fa02c2c",
   "metadata": {
    "execution": {
     "iopub.execute_input": "2022-05-08T07:40:15.382353Z",
     "iopub.status.busy": "2022-05-08T07:40:15.381921Z",
     "iopub.status.idle": "2022-05-08T07:40:15.384540Z",
     "shell.execute_reply": "2022-05-08T07:40:15.384051Z"
    },
    "papermill": {
     "duration": 0.026489,
     "end_time": "2022-05-08T07:40:15.386159",
     "exception": false,
     "start_time": "2022-05-08T07:40:15.359670",
     "status": "completed"
    },
    "tags": []
   },
   "outputs": [],
   "source": [
    "#q4.hint()\n",
    "#q4.solution()"
   ]
  },
  {
   "cell_type": "markdown",
   "id": "29769503",
   "metadata": {
    "papermill": {
     "duration": 0.02169,
     "end_time": "2022-05-08T07:40:15.429061",
     "exception": false,
     "start_time": "2022-05-08T07:40:15.407371",
     "status": "completed"
    },
    "tags": []
   },
   "source": [
    "## 5.\n",
    "I'm an economical wine buyer. Which wine is the \"best bargain\"? Create a variable `bargain_wine` with the title of the wine with the highest points-to-price ratio in the dataset."
   ]
  },
  {
   "cell_type": "code",
   "execution_count": 10,
   "id": "95d4ae8e",
   "metadata": {
    "execution": {
     "iopub.execute_input": "2022-05-08T07:40:15.474246Z",
     "iopub.status.busy": "2022-05-08T07:40:15.473972Z",
     "iopub.status.idle": "2022-05-08T07:40:15.485653Z",
     "shell.execute_reply": "2022-05-08T07:40:15.484917Z"
    },
    "papermill": {
     "duration": 0.036866,
     "end_time": "2022-05-08T07:40:15.487564",
     "exception": false,
     "start_time": "2022-05-08T07:40:15.450698",
     "status": "completed"
    },
    "tags": []
   },
   "outputs": [
    {
     "data": {
      "application/javascript": [
       "parent.postMessage({\"jupyterEvent\": \"custom.exercise_interaction\", \"data\": {\"outcomeType\": 1, \"valueTowardsCompletion\": 0.14285714285714285, \"interactionType\": 1, \"questionType\": 2, \"questionId\": \"5_BargainWine\", \"learnToolsVersion\": \"0.3.4\", \"failureMessage\": \"\", \"exceptionClass\": \"\", \"trace\": \"\"}}, \"*\")"
      ],
      "text/plain": [
       "<IPython.core.display.Javascript object>"
      ]
     },
     "metadata": {},
     "output_type": "display_data"
    },
    {
     "data": {
      "text/markdown": [
       "<span style=\"color:#33cc33\">Correct</span>"
      ],
      "text/plain": [
       "Correct"
      ]
     },
     "metadata": {},
     "output_type": "display_data"
    }
   ],
   "source": [
    "\n",
    "\n",
    "bargain_idx = (reviews.points / reviews.price).idxmax()\n",
    "bargain_wine = reviews.loc[bargain_idx, 'title']\n",
    "\n",
    "# Check your answer\n",
    "q5.check()"
   ]
  },
  {
   "cell_type": "code",
   "execution_count": 11,
   "id": "59983bf8",
   "metadata": {
    "execution": {
     "iopub.execute_input": "2022-05-08T07:40:15.533623Z",
     "iopub.status.busy": "2022-05-08T07:40:15.533080Z",
     "iopub.status.idle": "2022-05-08T07:40:15.536637Z",
     "shell.execute_reply": "2022-05-08T07:40:15.535772Z"
    },
    "papermill": {
     "duration": 0.028736,
     "end_time": "2022-05-08T07:40:15.538546",
     "exception": false,
     "start_time": "2022-05-08T07:40:15.509810",
     "status": "completed"
    },
    "tags": []
   },
   "outputs": [],
   "source": [
    "#q5.hint()\n",
    "#q5.solution()"
   ]
  },
  {
   "cell_type": "markdown",
   "id": "3b553ddd",
   "metadata": {
    "papermill": {
     "duration": 0.021781,
     "end_time": "2022-05-08T07:40:15.582908",
     "exception": false,
     "start_time": "2022-05-08T07:40:15.561127",
     "status": "completed"
    },
    "tags": []
   },
   "source": [
    "## 6.\n",
    "There are only so many words you can use when describing a bottle of wine. Is a wine more likely to be \"tropical\" or \"fruity\"? Create a Series `descriptor_counts` counting how many times each of these two words appears in the `description` column in the dataset. (For simplicity, let's ignore the capitalized versions of these words.)"
   ]
  },
  {
   "cell_type": "code",
   "execution_count": 12,
   "id": "2cce3de0",
   "metadata": {
    "execution": {
     "iopub.execute_input": "2022-05-08T07:40:15.628342Z",
     "iopub.status.busy": "2022-05-08T07:40:15.628082Z",
     "iopub.status.idle": "2022-05-08T07:40:15.755313Z",
     "shell.execute_reply": "2022-05-08T07:40:15.754501Z"
    },
    "papermill": {
     "duration": 0.152413,
     "end_time": "2022-05-08T07:40:15.757426",
     "exception": false,
     "start_time": "2022-05-08T07:40:15.605013",
     "status": "completed"
    },
    "tags": []
   },
   "outputs": [
    {
     "data": {
      "application/javascript": [
       "parent.postMessage({\"jupyterEvent\": \"custom.exercise_interaction\", \"data\": {\"outcomeType\": 1, \"valueTowardsCompletion\": 0.14285714285714285, \"interactionType\": 1, \"questionType\": 1, \"questionId\": \"6_DescriptorCounts\", \"learnToolsVersion\": \"0.3.4\", \"failureMessage\": \"\", \"exceptionClass\": \"\", \"trace\": \"\"}}, \"*\")"
      ],
      "text/plain": [
       "<IPython.core.display.Javascript object>"
      ]
     },
     "metadata": {},
     "output_type": "display_data"
    },
    {
     "data": {
      "text/markdown": [
       "<span style=\"color:#33cc33\">Correct</span>"
      ],
      "text/plain": [
       "Correct"
      ]
     },
     "metadata": {},
     "output_type": "display_data"
    }
   ],
   "source": [
    "n_trop = reviews.description.map(lambda desc: \"tropical\" in desc).sum()\n",
    "n_fruity = reviews.description.map(lambda desc: \"fruity\" in desc).sum()\n",
    "descriptor_counts = pd.Series([n_trop, n_fruity], index=['tropical', 'fruity'])\n",
    "\n",
    "# Check your answer\n",
    "q6.check()"
   ]
  },
  {
   "cell_type": "code",
   "execution_count": 13,
   "id": "fe83b5c4",
   "metadata": {
    "execution": {
     "iopub.execute_input": "2022-05-08T07:40:15.806579Z",
     "iopub.status.busy": "2022-05-08T07:40:15.806298Z",
     "iopub.status.idle": "2022-05-08T07:40:15.809165Z",
     "shell.execute_reply": "2022-05-08T07:40:15.808535Z"
    },
    "papermill": {
     "duration": 0.028931,
     "end_time": "2022-05-08T07:40:15.810814",
     "exception": false,
     "start_time": "2022-05-08T07:40:15.781883",
     "status": "completed"
    },
    "tags": []
   },
   "outputs": [],
   "source": [
    "#q6.hint()\n",
    "#q6.solution()"
   ]
  },
  {
   "cell_type": "markdown",
   "id": "bd993e69",
   "metadata": {
    "papermill": {
     "duration": 0.022541,
     "end_time": "2022-05-08T07:40:15.856329",
     "exception": false,
     "start_time": "2022-05-08T07:40:15.833788",
     "status": "completed"
    },
    "tags": []
   },
   "source": [
    "## 7.\n",
    "We'd like to host these wine reviews on our website, but a rating system ranging from 80 to 100 points is too hard to understand - we'd like to translate them into simple star ratings. A score of 95 or higher counts as 3 stars, a score of at least 85 but less than 95 is 2 stars. Any other score is 1 star.\n",
    "\n",
    "Also, the Canadian Vintners Association bought a lot of ads on the site, so any wines from Canada should automatically get 3 stars, regardless of points.\n",
    "\n",
    "Create a series `star_ratings` with the number of stars corresponding to each review in the dataset."
   ]
  },
  {
   "cell_type": "code",
   "execution_count": 14,
   "id": "684418c8",
   "metadata": {
    "execution": {
     "iopub.execute_input": "2022-05-08T07:40:15.904648Z",
     "iopub.status.busy": "2022-05-08T07:40:15.904368Z",
     "iopub.status.idle": "2022-05-08T07:40:19.214403Z",
     "shell.execute_reply": "2022-05-08T07:40:19.213609Z"
    },
    "papermill": {
     "duration": 3.336382,
     "end_time": "2022-05-08T07:40:19.216402",
     "exception": false,
     "start_time": "2022-05-08T07:40:15.880020",
     "status": "completed"
    },
    "tags": []
   },
   "outputs": [
    {
     "data": {
      "application/javascript": [
       "parent.postMessage({\"jupyterEvent\": \"custom.exercise_interaction\", \"data\": {\"outcomeType\": 1, \"valueTowardsCompletion\": 0.14285714285714285, \"interactionType\": 1, \"questionType\": 1, \"questionId\": \"7_StarRatings\", \"learnToolsVersion\": \"0.3.4\", \"failureMessage\": \"\", \"exceptionClass\": \"\", \"trace\": \"\"}}, \"*\")"
      ],
      "text/plain": [
       "<IPython.core.display.Javascript object>"
      ]
     },
     "metadata": {},
     "output_type": "display_data"
    },
    {
     "data": {
      "text/markdown": [
       "<span style=\"color:#33cc33\">Correct</span>"
      ],
      "text/plain": [
       "Correct"
      ]
     },
     "metadata": {},
     "output_type": "display_data"
    }
   ],
   "source": [
    "def stars(row):\n",
    "    if row.country == 'Canada':\n",
    "        return 3\n",
    "    elif row.points >= 95:\n",
    "        return 3\n",
    "    elif row.points >= 85:\n",
    "        return 2\n",
    "    else:\n",
    "        return 1\n",
    "\n",
    "star_ratings = reviews.apply(stars, axis='columns')\n",
    "\n",
    "# Check your answer\n",
    "q7.check()"
   ]
  },
  {
   "cell_type": "code",
   "execution_count": 15,
   "id": "162bbd6a",
   "metadata": {
    "execution": {
     "iopub.execute_input": "2022-05-08T07:40:19.266453Z",
     "iopub.status.busy": "2022-05-08T07:40:19.266187Z",
     "iopub.status.idle": "2022-05-08T07:40:19.269798Z",
     "shell.execute_reply": "2022-05-08T07:40:19.269121Z"
    },
    "papermill": {
     "duration": 0.030803,
     "end_time": "2022-05-08T07:40:19.271447",
     "exception": false,
     "start_time": "2022-05-08T07:40:19.240644",
     "status": "completed"
    },
    "tags": []
   },
   "outputs": [],
   "source": [
    "#q7.hint()\n",
    "#q7.solution()"
   ]
  },
  {
   "cell_type": "markdown",
   "id": "b8fa34e2",
   "metadata": {
    "papermill": {
     "duration": 0.024267,
     "end_time": "2022-05-08T07:40:19.321216",
     "exception": false,
     "start_time": "2022-05-08T07:40:19.296949",
     "status": "completed"
    },
    "tags": []
   },
   "source": [
    "# Keep going\n",
    "Continue to **[grouping and sorting](https://www.kaggle.com/residentmario/grouping-and-sorting)**."
   ]
  },
  {
   "cell_type": "markdown",
   "id": "64f39c27",
   "metadata": {
    "papermill": {
     "duration": 0.023659,
     "end_time": "2022-05-08T07:40:19.370312",
     "exception": false,
     "start_time": "2022-05-08T07:40:19.346653",
     "status": "completed"
    },
    "tags": []
   },
   "source": [
    "---\n",
    "\n",
    "\n",
    "\n",
    "\n",
    "*Have questions or comments? Visit the [course discussion forum](https://www.kaggle.com/learn/pandas/discussion) to chat with other learners.*"
   ]
  }
 ],
 "metadata": {
  "kernelspec": {
   "display_name": "Python 3",
   "language": "python",
   "name": "python3"
  },
  "language_info": {
   "codemirror_mode": {
    "name": "ipython",
    "version": 3
   },
   "file_extension": ".py",
   "mimetype": "text/x-python",
   "name": "python",
   "nbconvert_exporter": "python",
   "pygments_lexer": "ipython3",
   "version": "3.7.12"
  },
  "papermill": {
   "default_parameters": {},
   "duration": 20.18693,
   "end_time": "2022-05-08T07:40:20.014892",
   "environment_variables": {},
   "exception": null,
   "input_path": "__notebook__.ipynb",
   "output_path": "__notebook__.ipynb",
   "parameters": {},
   "start_time": "2022-05-08T07:39:59.827962",
   "version": "2.3.4"
  }
 },
 "nbformat": 4,
 "nbformat_minor": 5
}
