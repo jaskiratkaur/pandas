{
 "cells": [
  {
   "cell_type": "markdown",
   "id": "b9dc34f6",
   "metadata": {
    "papermill": {
     "duration": 0.012343,
     "end_time": "2022-05-08T08:02:04.571444",
     "exception": false,
     "start_time": "2022-05-08T08:02:04.559101",
     "status": "completed"
    },
    "tags": []
   },
   "source": [
    "**This notebook is an exercise in the [Pandas](https://www.kaggle.com/learn/pandas) course.  You can reference the tutorial at [this link](https://www.kaggle.com/residentmario/data-types-and-missing-values).**\n",
    "\n",
    "---\n"
   ]
  },
  {
   "cell_type": "markdown",
   "id": "48fe195f",
   "metadata": {
    "papermill": {
     "duration": 0.011202,
     "end_time": "2022-05-08T08:02:04.594264",
     "exception": false,
     "start_time": "2022-05-08T08:02:04.583062",
     "status": "completed"
    },
    "tags": []
   },
   "source": [
    "# Introduction\n",
    "\n",
    "Run the following cell to load your data and some utility functions."
   ]
  },
  {
   "cell_type": "code",
   "execution_count": 1,
   "id": "379031c5",
   "metadata": {
    "execution": {
     "iopub.execute_input": "2022-05-08T08:02:04.627751Z",
     "iopub.status.busy": "2022-05-08T08:02:04.627382Z",
     "iopub.status.idle": "2022-05-08T08:02:07.491771Z",
     "shell.execute_reply": "2022-05-08T08:02:07.490925Z"
    },
    "papermill": {
     "duration": 2.883722,
     "end_time": "2022-05-08T08:02:07.493977",
     "exception": false,
     "start_time": "2022-05-08T08:02:04.610255",
     "status": "completed"
    },
    "tags": []
   },
   "outputs": [
    {
     "name": "stdout",
     "output_type": "stream",
     "text": [
      "Setup complete.\n"
     ]
    }
   ],
   "source": [
    "import pandas as pd\n",
    "\n",
    "reviews = pd.read_csv(\"../input/wine-reviews/winemag-data-130k-v2.csv\", index_col=0)\n",
    "\n",
    "from learntools.core import binder; binder.bind(globals())\n",
    "from learntools.pandas.data_types_and_missing_data import *\n",
    "print(\"Setup complete.\")"
   ]
  },
  {
   "cell_type": "markdown",
   "id": "f06a77fa",
   "metadata": {
    "papermill": {
     "duration": 0.011843,
     "end_time": "2022-05-08T08:02:07.518292",
     "exception": false,
     "start_time": "2022-05-08T08:02:07.506449",
     "status": "completed"
    },
    "tags": []
   },
   "source": [
    "# Exercises"
   ]
  },
  {
   "cell_type": "markdown",
   "id": "bccd0b4f",
   "metadata": {
    "papermill": {
     "duration": 0.011966,
     "end_time": "2022-05-08T08:02:07.542335",
     "exception": false,
     "start_time": "2022-05-08T08:02:07.530369",
     "status": "completed"
    },
    "tags": []
   },
   "source": [
    "## 1. \n",
    "What is the data type of the `points` column in the dataset?"
   ]
  },
  {
   "cell_type": "code",
   "execution_count": 2,
   "id": "3a3352c8",
   "metadata": {
    "execution": {
     "iopub.execute_input": "2022-05-08T08:02:07.567882Z",
     "iopub.status.busy": "2022-05-08T08:02:07.567432Z",
     "iopub.status.idle": "2022-05-08T08:02:07.577836Z",
     "shell.execute_reply": "2022-05-08T08:02:07.576994Z"
    },
    "papermill": {
     "duration": 0.025518,
     "end_time": "2022-05-08T08:02:07.579809",
     "exception": false,
     "start_time": "2022-05-08T08:02:07.554291",
     "status": "completed"
    },
    "tags": []
   },
   "outputs": [
    {
     "data": {
      "application/javascript": [
       "parent.postMessage({\"jupyterEvent\": \"custom.exercise_interaction\", \"data\": {\"outcomeType\": 1, \"valueTowardsCompletion\": 0.25, \"interactionType\": 1, \"questionType\": 1, \"questionId\": \"1_PointsDtype\", \"learnToolsVersion\": \"0.3.4\", \"failureMessage\": \"\", \"exceptionClass\": \"\", \"trace\": \"\"}}, \"*\")"
      ],
      "text/plain": [
       "<IPython.core.display.Javascript object>"
      ]
     },
     "metadata": {},
     "output_type": "display_data"
    },
    {
     "data": {
      "text/markdown": [
       "<span style=\"color:#33cc33\">Correct</span>"
      ],
      "text/plain": [
       "Correct"
      ]
     },
     "metadata": {},
     "output_type": "display_data"
    }
   ],
   "source": [
    "# Your code here\n",
    "dtype = reviews.points.dtype\n",
    "\n",
    "# Check your answer\n",
    "q1.check()"
   ]
  },
  {
   "cell_type": "code",
   "execution_count": 3,
   "id": "96f57f3d",
   "metadata": {
    "execution": {
     "iopub.execute_input": "2022-05-08T08:02:07.606990Z",
     "iopub.status.busy": "2022-05-08T08:02:07.606272Z",
     "iopub.status.idle": "2022-05-08T08:02:07.609850Z",
     "shell.execute_reply": "2022-05-08T08:02:07.609199Z"
    },
    "papermill": {
     "duration": 0.018804,
     "end_time": "2022-05-08T08:02:07.611545",
     "exception": false,
     "start_time": "2022-05-08T08:02:07.592741",
     "status": "completed"
    },
    "tags": []
   },
   "outputs": [],
   "source": [
    "#q1.hint()\n",
    "#q1.solution()"
   ]
  },
  {
   "cell_type": "markdown",
   "id": "f7de49a2",
   "metadata": {
    "papermill": {
     "duration": 0.012156,
     "end_time": "2022-05-08T08:02:07.636182",
     "exception": false,
     "start_time": "2022-05-08T08:02:07.624026",
     "status": "completed"
    },
    "tags": []
   },
   "source": [
    "## 2. \n",
    "Create a Series from entries in the `points` column, but convert the entries to strings. Hint: strings are `str` in native Python."
   ]
  },
  {
   "cell_type": "code",
   "execution_count": 4,
   "id": "0c0fa811",
   "metadata": {
    "execution": {
     "iopub.execute_input": "2022-05-08T08:02:07.662690Z",
     "iopub.status.busy": "2022-05-08T08:02:07.662427Z",
     "iopub.status.idle": "2022-05-08T08:02:07.744062Z",
     "shell.execute_reply": "2022-05-08T08:02:07.743251Z"
    },
    "papermill": {
     "duration": 0.097286,
     "end_time": "2022-05-08T08:02:07.745917",
     "exception": false,
     "start_time": "2022-05-08T08:02:07.648631",
     "status": "completed"
    },
    "tags": []
   },
   "outputs": [
    {
     "data": {
      "application/javascript": [
       "parent.postMessage({\"jupyterEvent\": \"custom.exercise_interaction\", \"data\": {\"outcomeType\": 1, \"valueTowardsCompletion\": 0.25, \"interactionType\": 1, \"questionType\": 1, \"questionId\": \"2_StrPoints\", \"learnToolsVersion\": \"0.3.4\", \"failureMessage\": \"\", \"exceptionClass\": \"\", \"trace\": \"\"}}, \"*\")"
      ],
      "text/plain": [
       "<IPython.core.display.Javascript object>"
      ]
     },
     "metadata": {},
     "output_type": "display_data"
    },
    {
     "data": {
      "text/markdown": [
       "<span style=\"color:#33cc33\">Correct</span>"
      ],
      "text/plain": [
       "Correct"
      ]
     },
     "metadata": {},
     "output_type": "display_data"
    }
   ],
   "source": [
    "point_strings = reviews.points.astype(str)\n",
    "\n",
    "# Check your answer\n",
    "q2.check()"
   ]
  },
  {
   "cell_type": "code",
   "execution_count": 5,
   "id": "df117d53",
   "metadata": {
    "execution": {
     "iopub.execute_input": "2022-05-08T08:02:07.774347Z",
     "iopub.status.busy": "2022-05-08T08:02:07.773972Z",
     "iopub.status.idle": "2022-05-08T08:02:07.777073Z",
     "shell.execute_reply": "2022-05-08T08:02:07.776505Z"
    },
    "papermill": {
     "duration": 0.019348,
     "end_time": "2022-05-08T08:02:07.778683",
     "exception": false,
     "start_time": "2022-05-08T08:02:07.759335",
     "status": "completed"
    },
    "tags": []
   },
   "outputs": [],
   "source": [
    "#q2.hint()\n",
    "#q2.solution()"
   ]
  },
  {
   "cell_type": "markdown",
   "id": "59a97a27",
   "metadata": {
    "papermill": {
     "duration": 0.013048,
     "end_time": "2022-05-08T08:02:07.805092",
     "exception": false,
     "start_time": "2022-05-08T08:02:07.792044",
     "status": "completed"
    },
    "tags": []
   },
   "source": [
    "## 3.\n",
    "Sometimes the price column is null. How many reviews in the dataset are missing a price?"
   ]
  },
  {
   "cell_type": "code",
   "execution_count": 6,
   "id": "bceba12b",
   "metadata": {
    "execution": {
     "iopub.execute_input": "2022-05-08T08:02:07.833545Z",
     "iopub.status.busy": "2022-05-08T08:02:07.833160Z",
     "iopub.status.idle": "2022-05-08T08:02:07.846994Z",
     "shell.execute_reply": "2022-05-08T08:02:07.846170Z"
    },
    "papermill": {
     "duration": 0.030399,
     "end_time": "2022-05-08T08:02:07.848874",
     "exception": false,
     "start_time": "2022-05-08T08:02:07.818475",
     "status": "completed"
    },
    "tags": []
   },
   "outputs": [
    {
     "data": {
      "application/javascript": [
       "parent.postMessage({\"jupyterEvent\": \"custom.exercise_interaction\", \"data\": {\"outcomeType\": 1, \"valueTowardsCompletion\": 0.25, \"interactionType\": 1, \"questionType\": 1, \"questionId\": \"3_CountMissingPrices\", \"learnToolsVersion\": \"0.3.4\", \"failureMessage\": \"\", \"exceptionClass\": \"\", \"trace\": \"\"}}, \"*\")"
      ],
      "text/plain": [
       "<IPython.core.display.Javascript object>"
      ]
     },
     "metadata": {},
     "output_type": "display_data"
    },
    {
     "data": {
      "text/markdown": [
       "<span style=\"color:#33cc33\">Correct</span>"
      ],
      "text/plain": [
       "Correct"
      ]
     },
     "metadata": {},
     "output_type": "display_data"
    }
   ],
   "source": [
    "missing_price_reviews = reviews[reviews.price.isnull()]\n",
    "n_missing_prices = len(missing_price_reviews)\n",
    "\n",
    "# Check your answer\n",
    "q3.check()"
   ]
  },
  {
   "cell_type": "code",
   "execution_count": 7,
   "id": "71951025",
   "metadata": {
    "execution": {
     "iopub.execute_input": "2022-05-08T08:02:07.880464Z",
     "iopub.status.busy": "2022-05-08T08:02:07.880179Z",
     "iopub.status.idle": "2022-05-08T08:02:07.883694Z",
     "shell.execute_reply": "2022-05-08T08:02:07.882912Z"
    },
    "papermill": {
     "duration": 0.021723,
     "end_time": "2022-05-08T08:02:07.885578",
     "exception": false,
     "start_time": "2022-05-08T08:02:07.863855",
     "status": "completed"
    },
    "tags": []
   },
   "outputs": [],
   "source": [
    "#q3.hint()\n",
    "#q3.solution()"
   ]
  },
  {
   "cell_type": "markdown",
   "id": "f5aee1af",
   "metadata": {
    "papermill": {
     "duration": 0.014178,
     "end_time": "2022-05-08T08:02:07.914353",
     "exception": false,
     "start_time": "2022-05-08T08:02:07.900175",
     "status": "completed"
    },
    "tags": []
   },
   "source": [
    "## 4.\n",
    "What are the most common wine-producing regions? Create a Series counting the number of times each value occurs in the `region_1` field. This field is often missing data, so replace missing values with `Unknown`. Sort in descending order.  Your output should look something like this:\n",
    "\n",
    "```\n",
    "Unknown                    21247\n",
    "Napa Valley                 4480\n",
    "                           ...  \n",
    "Bardolino Superiore            1\n",
    "Primitivo del Tarantino        1\n",
    "Name: region_1, Length: 1230, dtype: int64\n",
    "```"
   ]
  },
  {
   "cell_type": "code",
   "execution_count": 8,
   "id": "fb55d6c2",
   "metadata": {
    "execution": {
     "iopub.execute_input": "2022-05-08T08:02:07.946495Z",
     "iopub.status.busy": "2022-05-08T08:02:07.946200Z",
     "iopub.status.idle": "2022-05-08T08:02:07.987128Z",
     "shell.execute_reply": "2022-05-08T08:02:07.986246Z"
    },
    "papermill": {
     "duration": 0.058273,
     "end_time": "2022-05-08T08:02:07.988953",
     "exception": false,
     "start_time": "2022-05-08T08:02:07.930680",
     "status": "completed"
    },
    "tags": []
   },
   "outputs": [
    {
     "data": {
      "application/javascript": [
       "parent.postMessage({\"jupyterEvent\": \"custom.exercise_interaction\", \"data\": {\"outcomeType\": 1, \"valueTowardsCompletion\": 0.25, \"interactionType\": 1, \"questionType\": 2, \"questionId\": \"4_ReviewsPerRegion\", \"learnToolsVersion\": \"0.3.4\", \"failureMessage\": \"\", \"exceptionClass\": \"\", \"trace\": \"\"}}, \"*\")"
      ],
      "text/plain": [
       "<IPython.core.display.Javascript object>"
      ]
     },
     "metadata": {},
     "output_type": "display_data"
    },
    {
     "data": {
      "text/markdown": [
       "<span style=\"color:#33cc33\">Correct</span>"
      ],
      "text/plain": [
       "Correct"
      ]
     },
     "metadata": {},
     "output_type": "display_data"
    }
   ],
   "source": [
    "reviews_per_region = reviews.region_1.fillna('Unknown').value_counts().sort_values(ascending=False)\n",
    "\n",
    "# Check your answer\n",
    "q4.check()"
   ]
  },
  {
   "cell_type": "code",
   "execution_count": 9,
   "id": "e30ce006",
   "metadata": {
    "execution": {
     "iopub.execute_input": "2022-05-08T08:02:08.022384Z",
     "iopub.status.busy": "2022-05-08T08:02:08.022098Z",
     "iopub.status.idle": "2022-05-08T08:02:08.025476Z",
     "shell.execute_reply": "2022-05-08T08:02:08.024682Z"
    },
    "papermill": {
     "duration": 0.021944,
     "end_time": "2022-05-08T08:02:08.027320",
     "exception": false,
     "start_time": "2022-05-08T08:02:08.005376",
     "status": "completed"
    },
    "tags": []
   },
   "outputs": [],
   "source": [
    "#q4.hint()\n",
    "#q4.solution()"
   ]
  },
  {
   "cell_type": "markdown",
   "id": "53a8f175",
   "metadata": {
    "papermill": {
     "duration": 0.015145,
     "end_time": "2022-05-08T08:02:08.058376",
     "exception": false,
     "start_time": "2022-05-08T08:02:08.043231",
     "status": "completed"
    },
    "tags": []
   },
   "source": [
    "# Keep going\n",
    "\n",
    "Move on to **[renaming and combining](https://www.kaggle.com/residentmario/renaming-and-combining)**."
   ]
  },
  {
   "cell_type": "markdown",
   "id": "5eeb6e6f",
   "metadata": {
    "papermill": {
     "duration": 0.014998,
     "end_time": "2022-05-08T08:02:08.088583",
     "exception": false,
     "start_time": "2022-05-08T08:02:08.073585",
     "status": "completed"
    },
    "tags": []
   },
   "source": [
    "---\n",
    "\n",
    "\n",
    "\n",
    "\n",
    "*Have questions or comments? Visit the [course discussion forum](https://www.kaggle.com/learn/pandas/discussion) to chat with other learners.*"
   ]
  }
 ],
 "metadata": {
  "kernelspec": {
   "display_name": "Python 3",
   "language": "python",
   "name": "python3"
  },
  "language_info": {
   "codemirror_mode": {
    "name": "ipython",
    "version": 3
   },
   "file_extension": ".py",
   "mimetype": "text/x-python",
   "name": "python",
   "nbconvert_exporter": "python",
   "pygments_lexer": "ipython3",
   "version": "3.7.12"
  },
  "papermill": {
   "default_parameters": {},
   "duration": 12.910551,
   "end_time": "2022-05-08T08:02:08.825046",
   "environment_variables": {},
   "exception": null,
   "input_path": "__notebook__.ipynb",
   "output_path": "__notebook__.ipynb",
   "parameters": {},
   "start_time": "2022-05-08T08:01:55.914495",
   "version": "2.3.4"
  }
 },
 "nbformat": 4,
 "nbformat_minor": 5
}
