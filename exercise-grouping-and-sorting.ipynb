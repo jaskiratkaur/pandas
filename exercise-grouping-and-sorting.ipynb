{
 "cells": [
  {
   "cell_type": "markdown",
   "id": "e0fd5467",
   "metadata": {
    "papermill": {
     "duration": 0.02341,
     "end_time": "2022-05-08T07:55:18.588613",
     "exception": false,
     "start_time": "2022-05-08T07:55:18.565203",
     "status": "completed"
    },
    "tags": []
   },
   "source": [
    "**This notebook is an exercise in the [Pandas](https://www.kaggle.com/learn/pandas) course.  You can reference the tutorial at [this link](https://www.kaggle.com/residentmario/grouping-and-sorting).**\n",
    "\n",
    "---\n"
   ]
  },
  {
   "cell_type": "markdown",
   "id": "127fe947",
   "metadata": {
    "papermill": {
     "duration": 0.021951,
     "end_time": "2022-05-08T07:55:18.633011",
     "exception": false,
     "start_time": "2022-05-08T07:55:18.611060",
     "status": "completed"
    },
    "tags": []
   },
   "source": [
    "# Introduction\n",
    "\n",
    "In these exercises we'll apply groupwise analysis to our dataset.\n",
    "\n",
    "Run the code cell below to load the data before running the exercises."
   ]
  },
  {
   "cell_type": "code",
   "execution_count": 1,
   "id": "dbfb1c0a",
   "metadata": {
    "execution": {
     "iopub.execute_input": "2022-05-08T07:55:18.680071Z",
     "iopub.status.busy": "2022-05-08T07:55:18.679739Z",
     "iopub.status.idle": "2022-05-08T07:55:21.845190Z",
     "shell.execute_reply": "2022-05-08T07:55:21.844045Z"
    },
    "papermill": {
     "duration": 3.192721,
     "end_time": "2022-05-08T07:55:21.848593",
     "exception": false,
     "start_time": "2022-05-08T07:55:18.655872",
     "status": "completed"
    },
    "tags": []
   },
   "outputs": [
    {
     "name": "stdout",
     "output_type": "stream",
     "text": [
      "Setup complete.\n"
     ]
    }
   ],
   "source": [
    "import pandas as pd\n",
    "\n",
    "reviews = pd.read_csv(\"../input/wine-reviews/winemag-data-130k-v2.csv\", index_col=0)\n",
    "#pd.set_option(\"display.max_rows\", 5)\n",
    "\n",
    "from learntools.core import binder; binder.bind(globals())\n",
    "from learntools.pandas.grouping_and_sorting import *\n",
    "print(\"Setup complete.\")"
   ]
  },
  {
   "cell_type": "markdown",
   "id": "f79469df",
   "metadata": {
    "papermill": {
     "duration": 0.022517,
     "end_time": "2022-05-08T07:55:21.894881",
     "exception": false,
     "start_time": "2022-05-08T07:55:21.872364",
     "status": "completed"
    },
    "tags": []
   },
   "source": [
    "# Exercises"
   ]
  },
  {
   "cell_type": "markdown",
   "id": "59d7cc21",
   "metadata": {
    "papermill": {
     "duration": 0.023039,
     "end_time": "2022-05-08T07:55:21.940561",
     "exception": false,
     "start_time": "2022-05-08T07:55:21.917522",
     "status": "completed"
    },
    "tags": []
   },
   "source": [
    "## 1.\n",
    "Who are the most common wine reviewers in the dataset? Create a `Series` whose index is the `taster_twitter_handle` category from the dataset, and whose values count how many reviews each person wrote."
   ]
  },
  {
   "cell_type": "code",
   "execution_count": 2,
   "id": "66aa9657",
   "metadata": {
    "execution": {
     "iopub.execute_input": "2022-05-08T07:55:21.987736Z",
     "iopub.status.busy": "2022-05-08T07:55:21.987204Z",
     "iopub.status.idle": "2022-05-08T07:55:22.015036Z",
     "shell.execute_reply": "2022-05-08T07:55:22.014405Z"
    },
    "papermill": {
     "duration": 0.054077,
     "end_time": "2022-05-08T07:55:22.017180",
     "exception": false,
     "start_time": "2022-05-08T07:55:21.963103",
     "status": "completed"
    },
    "tags": []
   },
   "outputs": [
    {
     "data": {
      "application/javascript": [
       "parent.postMessage({\"jupyterEvent\": \"custom.exercise_interaction\", \"data\": {\"outcomeType\": 1, \"valueTowardsCompletion\": 0.16666666666666666, \"interactionType\": 1, \"questionType\": 1, \"questionId\": \"1_ReviewsWritten\", \"learnToolsVersion\": \"0.3.4\", \"failureMessage\": \"\", \"exceptionClass\": \"\", \"trace\": \"\"}}, \"*\")"
      ],
      "text/plain": [
       "<IPython.core.display.Javascript object>"
      ]
     },
     "metadata": {},
     "output_type": "display_data"
    },
    {
     "data": {
      "text/markdown": [
       "<span style=\"color:#33cc33\">Correct:</span> \n",
       "\n",
       "\n",
       "```python\n",
       "reviews_written = reviews.groupby('taster_twitter_handle').size()\n",
       "```\n",
       "or\n",
       "```python\n",
       "reviews_written = reviews.groupby('taster_twitter_handle').taster_twitter_handle.count()\n",
       "```\n"
      ],
      "text/plain": [
       "Correct: \n",
       "\n",
       "\n",
       "```python\n",
       "reviews_written = reviews.groupby('taster_twitter_handle').size()\n",
       "```\n",
       "or\n",
       "```python\n",
       "reviews_written = reviews.groupby('taster_twitter_handle').taster_twitter_handle.count()\n",
       "```"
      ]
     },
     "metadata": {},
     "output_type": "display_data"
    }
   ],
   "source": [
    "# Your code here\n",
    "reviews_written = reviews.groupby('taster_twitter_handle').size()\n",
    "\n",
    "# Check your answer\n",
    "q1.check()"
   ]
  },
  {
   "cell_type": "code",
   "execution_count": 3,
   "id": "c7faa655",
   "metadata": {
    "execution": {
     "iopub.execute_input": "2022-05-08T07:55:22.068135Z",
     "iopub.status.busy": "2022-05-08T07:55:22.067691Z",
     "iopub.status.idle": "2022-05-08T07:55:22.070650Z",
     "shell.execute_reply": "2022-05-08T07:55:22.069990Z"
    },
    "papermill": {
     "duration": 0.03041,
     "end_time": "2022-05-08T07:55:22.072501",
     "exception": false,
     "start_time": "2022-05-08T07:55:22.042091",
     "status": "completed"
    },
    "tags": []
   },
   "outputs": [],
   "source": [
    "#q1.hint()\n",
    "#q1.solution()"
   ]
  },
  {
   "cell_type": "markdown",
   "id": "8d1a40bc",
   "metadata": {
    "papermill": {
     "duration": 0.025428,
     "end_time": "2022-05-08T07:55:22.121580",
     "exception": false,
     "start_time": "2022-05-08T07:55:22.096152",
     "status": "completed"
    },
    "tags": []
   },
   "source": [
    "## 2.\n",
    "What is the best wine I can buy for a given amount of money? Create a `Series` whose index is wine prices and whose values is the maximum number of points a wine costing that much was given in a review. Sort the values by price, ascending (so that `4.0` dollars is at the top and `3300.0` dollars is at the bottom)."
   ]
  },
  {
   "cell_type": "code",
   "execution_count": 4,
   "id": "935fca62",
   "metadata": {
    "execution": {
     "iopub.execute_input": "2022-05-08T07:55:22.170979Z",
     "iopub.status.busy": "2022-05-08T07:55:22.170531Z",
     "iopub.status.idle": "2022-05-08T07:55:22.181861Z",
     "shell.execute_reply": "2022-05-08T07:55:22.181137Z"
    },
    "papermill": {
     "duration": 0.03847,
     "end_time": "2022-05-08T07:55:22.183754",
     "exception": false,
     "start_time": "2022-05-08T07:55:22.145284",
     "status": "completed"
    },
    "tags": []
   },
   "outputs": [
    {
     "data": {
      "application/javascript": [
       "parent.postMessage({\"jupyterEvent\": \"custom.exercise_interaction\", \"data\": {\"outcomeType\": 1, \"valueTowardsCompletion\": 0.16666666666666666, \"interactionType\": 1, \"questionType\": 1, \"questionId\": \"2_BestRatingPerPrice\", \"learnToolsVersion\": \"0.3.4\", \"failureMessage\": \"\", \"exceptionClass\": \"\", \"trace\": \"\"}}, \"*\")"
      ],
      "text/plain": [
       "<IPython.core.display.Javascript object>"
      ]
     },
     "metadata": {},
     "output_type": "display_data"
    },
    {
     "data": {
      "text/markdown": [
       "<span style=\"color:#33cc33\">Correct</span>"
      ],
      "text/plain": [
       "Correct"
      ]
     },
     "metadata": {},
     "output_type": "display_data"
    }
   ],
   "source": [
    "best_rating_per_price = reviews.groupby('price')['points'].max().sort_index()\n",
    "\n",
    "# Check your answer\n",
    "q2.check()"
   ]
  },
  {
   "cell_type": "code",
   "execution_count": 5,
   "id": "1cf2d03d",
   "metadata": {
    "execution": {
     "iopub.execute_input": "2022-05-08T07:55:22.235993Z",
     "iopub.status.busy": "2022-05-08T07:55:22.235540Z",
     "iopub.status.idle": "2022-05-08T07:55:22.238384Z",
     "shell.execute_reply": "2022-05-08T07:55:22.237768Z"
    },
    "papermill": {
     "duration": 0.031419,
     "end_time": "2022-05-08T07:55:22.240327",
     "exception": false,
     "start_time": "2022-05-08T07:55:22.208908",
     "status": "completed"
    },
    "tags": []
   },
   "outputs": [],
   "source": [
    "#q2.hint()\n",
    "#q2.solution()"
   ]
  },
  {
   "cell_type": "markdown",
   "id": "7f97a67d",
   "metadata": {
    "papermill": {
     "duration": 0.024885,
     "end_time": "2022-05-08T07:55:22.290988",
     "exception": false,
     "start_time": "2022-05-08T07:55:22.266103",
     "status": "completed"
    },
    "tags": []
   },
   "source": [
    "## 3.\n",
    "What are the minimum and maximum prices for each `variety` of wine? Create a `DataFrame` whose index is the `variety` category from the dataset and whose values are the `min` and `max` values thereof."
   ]
  },
  {
   "cell_type": "code",
   "execution_count": 6,
   "id": "c873a2bc",
   "metadata": {
    "execution": {
     "iopub.execute_input": "2022-05-08T07:55:22.342932Z",
     "iopub.status.busy": "2022-05-08T07:55:22.342405Z",
     "iopub.status.idle": "2022-05-08T07:55:22.370102Z",
     "shell.execute_reply": "2022-05-08T07:55:22.369506Z"
    },
    "papermill": {
     "duration": 0.055796,
     "end_time": "2022-05-08T07:55:22.371887",
     "exception": false,
     "start_time": "2022-05-08T07:55:22.316091",
     "status": "completed"
    },
    "tags": []
   },
   "outputs": [
    {
     "data": {
      "application/javascript": [
       "parent.postMessage({\"jupyterEvent\": \"custom.exercise_interaction\", \"data\": {\"outcomeType\": 1, \"valueTowardsCompletion\": 0.16666666666666666, \"interactionType\": 1, \"questionType\": 1, \"questionId\": \"3_PriceExtremes\", \"learnToolsVersion\": \"0.3.4\", \"failureMessage\": \"\", \"exceptionClass\": \"\", \"trace\": \"\"}}, \"*\")"
      ],
      "text/plain": [
       "<IPython.core.display.Javascript object>"
      ]
     },
     "metadata": {},
     "output_type": "display_data"
    },
    {
     "data": {
      "text/markdown": [
       "<span style=\"color:#33cc33\">Correct</span>"
      ],
      "text/plain": [
       "Correct"
      ]
     },
     "metadata": {},
     "output_type": "display_data"
    }
   ],
   "source": [
    "price_extremes = reviews.groupby('variety').price.agg([min,max])\n",
    "\n",
    "# Check your answer\n",
    "q3.check()"
   ]
  },
  {
   "cell_type": "code",
   "execution_count": 7,
   "id": "838bdd60",
   "metadata": {
    "execution": {
     "iopub.execute_input": "2022-05-08T07:55:22.426436Z",
     "iopub.status.busy": "2022-05-08T07:55:22.425897Z",
     "iopub.status.idle": "2022-05-08T07:55:22.429073Z",
     "shell.execute_reply": "2022-05-08T07:55:22.428349Z"
    },
    "papermill": {
     "duration": 0.032961,
     "end_time": "2022-05-08T07:55:22.431115",
     "exception": false,
     "start_time": "2022-05-08T07:55:22.398154",
     "status": "completed"
    },
    "tags": []
   },
   "outputs": [],
   "source": [
    "#q3.hint()\n",
    "#q3.solution()"
   ]
  },
  {
   "cell_type": "markdown",
   "id": "e9e2abcf",
   "metadata": {
    "papermill": {
     "duration": 0.027266,
     "end_time": "2022-05-08T07:55:22.486018",
     "exception": false,
     "start_time": "2022-05-08T07:55:22.458752",
     "status": "completed"
    },
    "tags": []
   },
   "source": [
    "## 4.\n",
    "What are the most expensive wine varieties? Create a variable `sorted_varieties` containing a copy of the dataframe from the previous question where varieties are sorted in descending order based on minimum price, then on maximum price (to break ties)."
   ]
  },
  {
   "cell_type": "code",
   "execution_count": 8,
   "id": "6cee81e5",
   "metadata": {
    "execution": {
     "iopub.execute_input": "2022-05-08T07:55:22.540164Z",
     "iopub.status.busy": "2022-05-08T07:55:22.539604Z",
     "iopub.status.idle": "2022-05-08T07:55:22.548685Z",
     "shell.execute_reply": "2022-05-08T07:55:22.548016Z"
    },
    "papermill": {
     "duration": 0.038602,
     "end_time": "2022-05-08T07:55:22.550761",
     "exception": false,
     "start_time": "2022-05-08T07:55:22.512159",
     "status": "completed"
    },
    "tags": []
   },
   "outputs": [
    {
     "data": {
      "application/javascript": [
       "parent.postMessage({\"jupyterEvent\": \"custom.exercise_interaction\", \"data\": {\"outcomeType\": 1, \"valueTowardsCompletion\": 0.16666666666666666, \"interactionType\": 1, \"questionType\": 1, \"questionId\": \"4_SortedVarieties\", \"learnToolsVersion\": \"0.3.4\", \"failureMessage\": \"\", \"exceptionClass\": \"\", \"trace\": \"\"}}, \"*\")"
      ],
      "text/plain": [
       "<IPython.core.display.Javascript object>"
      ]
     },
     "metadata": {},
     "output_type": "display_data"
    },
    {
     "data": {
      "text/markdown": [
       "<span style=\"color:#33cc33\">Correct</span>"
      ],
      "text/plain": [
       "Correct"
      ]
     },
     "metadata": {},
     "output_type": "display_data"
    }
   ],
   "source": [
    "sorted_varieties = price_extremes.sort_values(by=['min','max'],ascending=False)\n",
    "\n",
    "# Check your answer\n",
    "q4.check()"
   ]
  },
  {
   "cell_type": "code",
   "execution_count": 9,
   "id": "b48d0a66",
   "metadata": {
    "execution": {
     "iopub.execute_input": "2022-05-08T07:55:22.608489Z",
     "iopub.status.busy": "2022-05-08T07:55:22.607958Z",
     "iopub.status.idle": "2022-05-08T07:55:22.610796Z",
     "shell.execute_reply": "2022-05-08T07:55:22.610273Z"
    },
    "papermill": {
     "duration": 0.034437,
     "end_time": "2022-05-08T07:55:22.612736",
     "exception": false,
     "start_time": "2022-05-08T07:55:22.578299",
     "status": "completed"
    },
    "tags": []
   },
   "outputs": [],
   "source": [
    "#q4.hint()\n",
    "#q4.solution()"
   ]
  },
  {
   "cell_type": "markdown",
   "id": "6825d538",
   "metadata": {
    "papermill": {
     "duration": 0.027326,
     "end_time": "2022-05-08T07:55:22.667548",
     "exception": false,
     "start_time": "2022-05-08T07:55:22.640222",
     "status": "completed"
    },
    "tags": []
   },
   "source": [
    "## 5.\n",
    "Create a `Series` whose index is reviewers and whose values is the average review score given out by that reviewer. Hint: you will need the `taster_name` and `points` columns."
   ]
  },
  {
   "cell_type": "code",
   "execution_count": 10,
   "id": "d36b6271",
   "metadata": {
    "execution": {
     "iopub.execute_input": "2022-05-08T07:55:22.724115Z",
     "iopub.status.busy": "2022-05-08T07:55:22.723604Z",
     "iopub.status.idle": "2022-05-08T07:55:22.749278Z",
     "shell.execute_reply": "2022-05-08T07:55:22.748652Z"
    },
    "papermill": {
     "duration": 0.056193,
     "end_time": "2022-05-08T07:55:22.751171",
     "exception": false,
     "start_time": "2022-05-08T07:55:22.694978",
     "status": "completed"
    },
    "tags": []
   },
   "outputs": [
    {
     "data": {
      "application/javascript": [
       "parent.postMessage({\"jupyterEvent\": \"custom.exercise_interaction\", \"data\": {\"outcomeType\": 1, \"valueTowardsCompletion\": 0.16666666666666666, \"interactionType\": 1, \"questionType\": 1, \"questionId\": \"5_ReviewerMeanRatings\", \"learnToolsVersion\": \"0.3.4\", \"failureMessage\": \"\", \"exceptionClass\": \"\", \"trace\": \"\"}}, \"*\")"
      ],
      "text/plain": [
       "<IPython.core.display.Javascript object>"
      ]
     },
     "metadata": {},
     "output_type": "display_data"
    },
    {
     "data": {
      "text/markdown": [
       "<span style=\"color:#33cc33\">Correct</span>"
      ],
      "text/plain": [
       "Correct"
      ]
     },
     "metadata": {},
     "output_type": "display_data"
    }
   ],
   "source": [
    "reviewer_mean_ratings = reviews.groupby('taster_name').points.mean()\n",
    "\n",
    "# Check your answer\n",
    "q5.check()"
   ]
  },
  {
   "cell_type": "code",
   "execution_count": 11,
   "id": "78d55de2",
   "metadata": {
    "execution": {
     "iopub.execute_input": "2022-05-08T07:55:22.810932Z",
     "iopub.status.busy": "2022-05-08T07:55:22.810477Z",
     "iopub.status.idle": "2022-05-08T07:55:22.813388Z",
     "shell.execute_reply": "2022-05-08T07:55:22.812775Z"
    },
    "papermill": {
     "duration": 0.035258,
     "end_time": "2022-05-08T07:55:22.815336",
     "exception": false,
     "start_time": "2022-05-08T07:55:22.780078",
     "status": "completed"
    },
    "tags": []
   },
   "outputs": [],
   "source": [
    "#q5.hint()\n",
    "#q5.solution()"
   ]
  },
  {
   "cell_type": "markdown",
   "id": "f979bc86",
   "metadata": {
    "papermill": {
     "duration": 0.029327,
     "end_time": "2022-05-08T07:55:22.873426",
     "exception": false,
     "start_time": "2022-05-08T07:55:22.844099",
     "status": "completed"
    },
    "tags": []
   },
   "source": [
    "Are there significant differences in the average scores assigned by the various reviewers? Run the cell below to use the `describe()` method to see a summary of the range of values."
   ]
  },
  {
   "cell_type": "code",
   "execution_count": 12,
   "id": "85357e9f",
   "metadata": {
    "execution": {
     "iopub.execute_input": "2022-05-08T07:55:22.932261Z",
     "iopub.status.busy": "2022-05-08T07:55:22.931964Z",
     "iopub.status.idle": "2022-05-08T07:55:22.943679Z",
     "shell.execute_reply": "2022-05-08T07:55:22.942705Z"
    },
    "papermill": {
     "duration": 0.043746,
     "end_time": "2022-05-08T07:55:22.945790",
     "exception": false,
     "start_time": "2022-05-08T07:55:22.902044",
     "status": "completed"
    },
    "tags": []
   },
   "outputs": [
    {
     "data": {
      "text/plain": [
       "count    19.000000\n",
       "mean     88.233026\n",
       "std       1.243610\n",
       "min      85.855422\n",
       "25%      87.323501\n",
       "50%      88.536235\n",
       "75%      88.975256\n",
       "max      90.562551\n",
       "Name: points, dtype: float64"
      ]
     },
     "execution_count": 12,
     "metadata": {},
     "output_type": "execute_result"
    }
   ],
   "source": [
    "reviewer_mean_ratings.describe()"
   ]
  },
  {
   "cell_type": "markdown",
   "id": "cd41c39b",
   "metadata": {
    "papermill": {
     "duration": 0.028905,
     "end_time": "2022-05-08T07:55:23.003666",
     "exception": false,
     "start_time": "2022-05-08T07:55:22.974761",
     "status": "completed"
    },
    "tags": []
   },
   "source": [
    "## 6.\n",
    "What combination of countries and varieties are most common? Create a `Series` whose index is a `MultiIndex`of `{country, variety}` pairs. For example, a pinot noir produced in the US should map to `{\"US\", \"Pinot Noir\"}`. Sort the values in the `Series` in descending order based on wine count."
   ]
  },
  {
   "cell_type": "code",
   "execution_count": 13,
   "id": "53e9fd42",
   "metadata": {
    "execution": {
     "iopub.execute_input": "2022-05-08T07:55:23.063163Z",
     "iopub.status.busy": "2022-05-08T07:55:23.062876Z",
     "iopub.status.idle": "2022-05-08T07:55:23.110321Z",
     "shell.execute_reply": "2022-05-08T07:55:23.109542Z"
    },
    "papermill": {
     "duration": 0.079896,
     "end_time": "2022-05-08T07:55:23.112412",
     "exception": false,
     "start_time": "2022-05-08T07:55:23.032516",
     "status": "completed"
    },
    "tags": []
   },
   "outputs": [
    {
     "data": {
      "application/javascript": [
       "parent.postMessage({\"jupyterEvent\": \"custom.exercise_interaction\", \"data\": {\"outcomeType\": 1, \"valueTowardsCompletion\": 0.16666666666666666, \"interactionType\": 1, \"questionType\": 1, \"questionId\": \"6_GroupbyCountryVariety\", \"learnToolsVersion\": \"0.3.4\", \"failureMessage\": \"\", \"exceptionClass\": \"\", \"trace\": \"\"}}, \"*\")"
      ],
      "text/plain": [
       "<IPython.core.display.Javascript object>"
      ]
     },
     "metadata": {},
     "output_type": "display_data"
    },
    {
     "data": {
      "text/markdown": [
       "<span style=\"color:#33cc33\">Correct</span>"
      ],
      "text/plain": [
       "Correct"
      ]
     },
     "metadata": {},
     "output_type": "display_data"
    }
   ],
   "source": [
    "country_variety_counts = reviews.groupby(['country','variety']).size().sort_values(ascending=False)\n",
    "\n",
    "# Check your answer\n",
    "q6.check()"
   ]
  },
  {
   "cell_type": "code",
   "execution_count": 14,
   "id": "b29b89d4",
   "metadata": {
    "execution": {
     "iopub.execute_input": "2022-05-08T07:55:23.174335Z",
     "iopub.status.busy": "2022-05-08T07:55:23.173608Z",
     "iopub.status.idle": "2022-05-08T07:55:23.177132Z",
     "shell.execute_reply": "2022-05-08T07:55:23.176508Z"
    },
    "papermill": {
     "duration": 0.036678,
     "end_time": "2022-05-08T07:55:23.178954",
     "exception": false,
     "start_time": "2022-05-08T07:55:23.142276",
     "status": "completed"
    },
    "tags": []
   },
   "outputs": [],
   "source": [
    "#q6.hint()\n",
    "#q6.solution()"
   ]
  },
  {
   "cell_type": "markdown",
   "id": "3a226419",
   "metadata": {
    "papermill": {
     "duration": 0.030005,
     "end_time": "2022-05-08T07:55:23.238942",
     "exception": false,
     "start_time": "2022-05-08T07:55:23.208937",
     "status": "completed"
    },
    "tags": []
   },
   "source": [
    "# Keep going\n",
    "\n",
    "Move on to the [**data types and missing data**](https://www.kaggle.com/residentmario/data-types-and-missing-values)."
   ]
  },
  {
   "cell_type": "markdown",
   "id": "d3688a2f",
   "metadata": {
    "papermill": {
     "duration": 0.029907,
     "end_time": "2022-05-08T07:55:23.298900",
     "exception": false,
     "start_time": "2022-05-08T07:55:23.268993",
     "status": "completed"
    },
    "tags": []
   },
   "source": [
    "---\n",
    "\n",
    "\n",
    "\n",
    "\n",
    "*Have questions or comments? Visit the [course discussion forum](https://www.kaggle.com/learn/pandas/discussion) to chat with other learners.*"
   ]
  }
 ],
 "metadata": {
  "kernelspec": {
   "display_name": "Python 3",
   "language": "python",
   "name": "python3"
  },
  "language_info": {
   "codemirror_mode": {
    "name": "ipython",
    "version": 3
   },
   "file_extension": ".py",
   "mimetype": "text/x-python",
   "name": "python",
   "nbconvert_exporter": "python",
   "pygments_lexer": "ipython3",
   "version": "3.7.12"
  },
  "papermill": {
   "default_parameters": {},
   "duration": 16.203761,
   "end_time": "2022-05-08T07:55:24.050197",
   "environment_variables": {},
   "exception": null,
   "input_path": "__notebook__.ipynb",
   "output_path": "__notebook__.ipynb",
   "parameters": {},
   "start_time": "2022-05-08T07:55:07.846436",
   "version": "2.3.4"
  }
 },
 "nbformat": 4,
 "nbformat_minor": 5
}
